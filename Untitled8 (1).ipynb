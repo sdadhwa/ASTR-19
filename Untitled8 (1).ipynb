{
 "cells": [
  {
   "cell_type": "code",
   "execution_count": null,
   "id": "2c70a6cc-150c-4dbb-8a3c-5dacdf98c4a6",
   "metadata": {},
   "outputs": [],
   "source": [
    "import numpy as np\n",
    "import matplotlib.pyplot as plt\n",
    "\n",
    "# Generate 1000 random numbers uniformly distributed between [0, 1]\n",
    "random_numbers = np.random.uniform(0, 1, 1000)\n",
    "# Create a histogram with 100 bins\n",
    "plt.hist(random_numbers, bins=100, density=True, alpha=0.75, color='b')\n",
    "\n",
    "# Label the x and y axes\n",
    "plt.xlabel(\"Value\")\n",
    "plt.ylabel(\"Frequency\")\n",
    "\n",
    "# Save the figure as a PDF\n",
    "plt.savefig(\"random_numbers_histogram.pdf\")\n",
    "\n",
    "# Display the plot\n",
    "plt.show()"
   ]
  }
 ],
 "metadata": {
  "kernelspec": {
   "display_name": "Python 3 (ipykernel)",
   "language": "python",
   "name": "python3"
  },
  "language_info": {
   "codemirror_mode": {
    "name": "ipython",
    "version": 3
   },
   "file_extension": ".py",
   "mimetype": "text/x-python",
   "name": "python",
   "nbconvert_exporter": "python",
   "pygments_lexer": "ipython3",
   "version": "3.8.10"
  }
 },
 "nbformat": 4,
 "nbformat_minor": 5
}
