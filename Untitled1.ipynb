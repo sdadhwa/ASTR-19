{
 "cells": [
  {
   "cell_type": "code",
   "execution_count": 1,
   "id": "e4ed0745-cfad-4545-8a0a-518f4b61f7b3",
   "metadata": {},
   "outputs": [
    {
     "name": "stdin",
     "output_type": "stream",
     "text": [
      "Enter the first number:  5\n",
      "Enter the second number:  4\n"
     ]
    },
    {
     "name": "stdout",
     "output_type": "stream",
     "text": [
      "The sum is:  9.0\n",
      "The difference between numbers = 1.0\n",
      "The product of given number 20.0\n"
     ]
    }
   ],
   "source": [
    "num1 = float(input(\"Enter the first number: \"))\n",
    "\n",
    "num2 = float(input(\"Enter the second number: \")) \n",
    "\n",
    "sum = num1 + num2  \n",
    "\n",
    "print(\"The sum is: \", sum)   \n",
    "\n",
    "if num1 > num2:\n",
    "    diff = num1 - num2\n",
    "else:\n",
    "    diff = num2 - num1\n",
    "print('The difference between numbers =', diff)\n",
    "\n",
    "product=num1*num2;\n",
    "\n",
    "print(\"The product of given number\", product)\n"
   ]
  },
  {
   "cell_type": "code",
   "execution_count": null,
   "id": "3ecc4b92-fbf6-4216-94d7-8e2c5bea4156",
   "metadata": {},
   "outputs": [],
   "source": []
  }
 ],
 "metadata": {
  "kernelspec": {
   "display_name": "Python 3 (ipykernel)",
   "language": "python",
   "name": "python3"
  },
  "language_info": {
   "codemirror_mode": {
    "name": "ipython",
    "version": 3
   },
   "file_extension": ".py",
   "mimetype": "text/x-python",
   "name": "python",
   "nbconvert_exporter": "python",
   "pygments_lexer": "ipython3",
   "version": "3.8.10"
  }
 },
 "nbformat": 4,
 "nbformat_minor": 5
}
