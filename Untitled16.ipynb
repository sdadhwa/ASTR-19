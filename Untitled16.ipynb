{
 "cells": [
  {
   "cell_type": "markdown",
   "id": "43372e12-b7c7-4dd8-8faa-f0ffa55bb6ab",
   "metadata": {},
   "source": [
    "Import necessary libraries"
   ]
  },
  {
   "cell_type": "code",
   "execution_count": 1,
   "id": "8e88487f-1b24-4367-a1ed-d07ea251d01f",
   "metadata": {},
   "outputs": [
    {
     "ename": "ModuleNotFoundError",
     "evalue": "No module named 'numpy'",
     "output_type": "error",
     "traceback": [
      "\u001b[1;31m---------------------------------------------------------------------------\u001b[0m",
      "\u001b[1;31mModuleNotFoundError\u001b[0m                       Traceback (most recent call last)",
      "Cell \u001b[1;32mIn[1], line 1\u001b[0m\n\u001b[1;32m----> 1\u001b[0m \u001b[38;5;28;01mimport\u001b[39;00m \u001b[38;5;21;01mnumpy\u001b[39;00m \u001b[38;5;28;01mas\u001b[39;00m \u001b[38;5;21;01mnp\u001b[39;00m\n\u001b[0;32m      2\u001b[0m \u001b[38;5;28;01mfrom\u001b[39;00m \u001b[38;5;21;01mastropy\u001b[39;00m\u001b[38;5;21;01m.\u001b[39;00m\u001b[38;5;21;01mio\u001b[39;00m \u001b[38;5;28;01mimport\u001b[39;00m fits\n\u001b[0;32m      3\u001b[0m \u001b[38;5;28;01mimport\u001b[39;00m \u001b[38;5;21;01mmatplotlib\u001b[39;00m\u001b[38;5;21;01m.\u001b[39;00m\u001b[38;5;21;01mpyplot\u001b[39;00m \u001b[38;5;28;01mas\u001b[39;00m \u001b[38;5;21;01mplt\u001b[39;00m\n",
      "\u001b[1;31mModuleNotFoundError\u001b[0m: No module named 'numpy'"
     ]
    }
   ],
   "source": [
    "import numpy as np\n",
    "from astropy.io import fits\n",
    "import matplotlib.pyplot as plt\n",
    "from matplotlib.patches import Ellipse\n",
    "from astropy.visualization import ImageNormalize, ZScaleInterval\n",
    "from astropy.stats import sigma_clipped_stats\n",
    "from astropy.table import Table"
   ]
  },
  {
   "cell_type": "markdown",
   "id": "78034ae2-1c7b-47de-ae28-21f5f382d6ad",
   "metadata": {},
   "source": [
    "Load the fits image"
   ]
  },
  {
   "cell_type": "code",
   "execution_count": null,
   "id": "14843870-fd32-4413-a490-cca76ab5a944",
   "metadata": {},
   "outputs": [],
   "source": [
    "image_path = 'image.fits'\n",
    "hdul = fits.open(image_path)\n",
    "data = hdul[0].data"
   ]
  },
  {
   "cell_type": "markdown",
   "id": "eca437a9-eceb-4372-9017-9ca269bc2977",
   "metadata": {},
   "source": [
    "Display the original image and save to PNG"
   ]
  },
  {
   "cell_type": "code",
   "execution_count": null,
   "id": "94dbf794-ff07-4de6-aa99-0de3ab3af05e",
   "metadata": {},
   "outputs": [],
   "source": [
    "m, s = np.mean(data), np.std(data)\n",
    "plt.imshow(data, interpolation='nearest', cmap='gray', vmin=m-s, vmax=m+s, origin='lower')\n",
    "plt.colorbar()\n",
    "plt.title('Original Image')\n",
    "plt.savefig('original_image.png')"
   ]
  },
  {
   "cell_type": "markdown",
   "id": "aedcf2f8-da45-4bd4-9fb1-f2f3e82bac07",
   "metadata": {},
   "source": [
    "Background subtraction"
   ]
  },
  {
   "cell_type": "code",
   "execution_count": null,
   "id": "d2fb135d-4228-4498-b7be-373a817eef45",
   "metadata": {},
   "outputs": [],
   "source": [
    "bkg = sep.Background(data)\n",
    "bkg_image = bkg.back()\n",
    "bkg_rms = bkg.rms()\n",
    "data_sub = data - bkg"
   ]
  },
  {
   "cell_type": "markdown",
   "id": "43c28218-98e8-44e5-b017-3e3497fe3817",
   "metadata": {},
   "source": [
    "Save background and background noise figures to PNG"
   ]
  },
  {
   "cell_type": "code",
   "execution_count": null,
   "id": "adaf21ad-269b-4dde-869b-efe2a81a044e",
   "metadata": {},
   "outputs": [],
   "source": [
    "plt.imshow(bkg_image, interpolation='nearest', cmap='gray', origin='lower')\n",
    "plt.colorbar()\n",
    "plt.title('Background Image')\n",
    "plt.savefig('background_image.png')\n",
    "\n",
    "plt.imshow(bkg_rms, interpolation='nearest', cmap='gray', origin='lower')\n",
    "plt.colorbar()\n",
    "plt.title('Background Noise')\n",
    "plt.savefig('background_noise.png')"
   ]
  },
  {
   "cell_type": "markdown",
   "id": "127cd6cf-9745-48e7-aa32-4cbceda5881d",
   "metadata": {},
   "source": [
    "Object detection"
   ]
  },
  {
   "cell_type": "code",
   "execution_count": null,
   "id": "472a4097-ae24-4f8c-97ff-2cfe22f01690",
   "metadata": {},
   "outputs": [],
   "source": [
    "objects = sep.extract(data_sub, 1.5, err=bkg.globalrms)"
   ]
  },
  {
   "cell_type": "markdown",
   "id": "7f7f01e7-29d9-49bd-a98d-be696880d5ed",
   "metadata": {},
   "source": [
    "Save object detection figure to PNG"
   ]
  },
  {
   "cell_type": "code",
   "execution_count": null,
   "id": "c1c9178e-6fe2-45a2-931e-c657eea5fe88",
   "metadata": {},
   "outputs": [],
   "source": [
    "fig, ax = plt.subplots()\n",
    "m, s = np.mean(data_sub), np.std(data_sub)\n",
    "im = ax.imshow(data_sub, interpolation='nearest', cmap='gray', vmin=m-s, vmax=m+s, origin='lower')\n",
    "\n",
    "for i in range(len(objects)):\n",
    "    e = Ellipse(xy=(objects['x'][i], objects['y'][i]),\n",
    "                width=6 * objects['a'][i],\n",
    "                height=6 * objects['b'][i],\n",
    "                angle=objects['theta'][i] * 180. / np.pi)\n",
    "    e.set_facecolor('none')\n",
    "    e.set_edgecolor('red')\n",
    "    ax.add_artist(e)\n",
    "\n",
    "plt.title('Object Detection')\n",
    "plt.savefig('object_detection.png')"
   ]
  },
  {
   "cell_type": "markdown",
   "id": "9c77efc4-72f2-4dac-8113-bfc45d9f4442",
   "metadata": {},
   "source": [
    "Aperture photometry"
   ]
  },
  {
   "cell_type": "code",
   "execution_count": null,
   "id": "dd85ab44-f1eb-4fdb-88e8-9b91702bcb71",
   "metadata": {},
   "outputs": [],
   "source": [
    "flux, fluxerr, flag = sep.sum_circle(data_sub, objects['x'], objects['y'], 3.0, err=bkg.globalrms, gain=1.0)"
   ]
  },
  {
   "cell_type": "markdown",
   "id": "4b7b4e6d-682a-4f76-906b-2838c1ef6c9f",
   "metadata": {},
   "source": [
    "Display and save the aperture photometry figure to PNG"
   ]
  },
  {
   "cell_type": "code",
   "execution_count": null,
   "id": "6fe1491d-521f-4795-8c24-aef734e4ca6a",
   "metadata": {},
   "outputs": [],
   "source": [
    "plt.plot(flux, 'o')\n",
    "plt.xlabel('Object Index')\n",
    "plt.ylabel('Flux')\n",
    "plt.title('Aperture Photometry')\n",
    "plt.savefig('aperture_photometry.png')"
   ]
  },
  {
   "cell_type": "markdown",
   "id": "f71c7578-de37-456f-9eec-2529f7f30dc0",
   "metadata": {},
   "source": [
    "Print flux information for the first 10 objects"
   ]
  },
  {
   "cell_type": "code",
   "execution_count": 1,
   "id": "5c31351d-bcd8-4fa4-a29a-dbdee40bc117",
   "metadata": {},
   "outputs": [
    {
     "ename": "NameError",
     "evalue": "name 'flux' is not defined",
     "output_type": "error",
     "traceback": [
      "\u001b[1;31m---------------------------------------------------------------------------\u001b[0m",
      "\u001b[1;31mNameError\u001b[0m                                 Traceback (most recent call last)",
      "Cell \u001b[1;32mIn[1], line 2\u001b[0m\n\u001b[0;32m      1\u001b[0m \u001b[38;5;28;01mfor\u001b[39;00m i \u001b[38;5;129;01min\u001b[39;00m \u001b[38;5;28mrange\u001b[39m(\u001b[38;5;241m10\u001b[39m):\n\u001b[1;32m----> 2\u001b[0m     \u001b[38;5;28mprint\u001b[39m(\u001b[38;5;124mf\u001b[39m\u001b[38;5;124m\"\u001b[39m\u001b[38;5;124mobject \u001b[39m\u001b[38;5;132;01m{\u001b[39;00mi\u001b[38;5;132;01m}\u001b[39;00m\u001b[38;5;124m: flux = \u001b[39m\u001b[38;5;132;01m{\u001b[39;00m\u001b[43mflux\u001b[49m[i]\u001b[38;5;132;01m:\u001b[39;00m\u001b[38;5;124m.3f\u001b[39m\u001b[38;5;132;01m}\u001b[39;00m\u001b[38;5;124m +/- \u001b[39m\u001b[38;5;132;01m{\u001b[39;00mfluxerr[i]\u001b[38;5;132;01m:\u001b[39;00m\u001b[38;5;124m.3f\u001b[39m\u001b[38;5;132;01m}\u001b[39;00m\u001b[38;5;124m\"\u001b[39m)\n",
      "\u001b[1;31mNameError\u001b[0m: name 'flux' is not defined"
     ]
    }
   ],
   "source": [
    "for i in range(10):\n",
    "    print(f\"object {i}: flux = {flux[i]:.3f} +/- {fluxerr[i]:.3f}\")"
   ]
  },
  {
   "cell_type": "code",
   "execution_count": null,
   "id": "ad3903f5-ff59-4e1c-bbdb-ac42e254ba56",
   "metadata": {},
   "outputs": [],
   "source": []
  }
 ],
 "metadata": {
  "kernelspec": {
   "display_name": "Python 3 (ipykernel)",
   "language": "python",
   "name": "python3"
  },
  "language_info": {
   "codemirror_mode": {
    "name": "ipython",
    "version": 3
   },
   "file_extension": ".py",
   "mimetype": "text/x-python",
   "name": "python",
   "nbconvert_exporter": "python",
   "pygments_lexer": "ipython3",
   "version": "3.11.5"
  }
 },
 "nbformat": 4,
 "nbformat_minor": 5
}
