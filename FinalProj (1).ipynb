{
 "cells": [
  {
   "cell_type": "markdown",
   "id": "43372e12-b7c7-4dd8-8faa-f0ffa55bb6ab",
   "metadata": {},
   "source": [
    "Import necessary libraries"
   ]
  },
  {
   "cell_type": "code",
   "execution_count": null,
   "id": "8e88487f-1b24-4367-a1ed-d07ea251d01f",
   "metadata": {},
   "outputs": [],
   "source": [
    "import numpy as np\n",
    "from astropy.io import fits\n",
    "import sep\n",
    "import matplotlib.pyplot as plt\n",
    "from matplotlib.patches import Ellipse\n",
    "from matplotlib import rcParams"
   ]
  },
  {
   "cell_type": "markdown",
   "id": "5028a3e9-10b7-4853-bcfc-add1923b9408",
   "metadata": {},
   "source": [
    "Additional setup to display plots"
   ]
  },
  {
   "cell_type": "code",
   "execution_count": null,
   "id": "2e043fe3-a233-498e-8a84-1040a30324fc",
   "metadata": {},
   "outputs": [],
   "source": [
    "%matplotlib inline\n",
    "rcParams['figure.figsize'] = [10., 8.]\n"
   ]
  },
  {
   "cell_type": "markdown",
   "id": "78034ae2-1c7b-47de-ae28-21f5f382d6ad",
   "metadata": {},
   "source": [
    "Read the UDF f105w image from a FITS file"
   ]
  },
  {
   "cell_type": "code",
   "execution_count": null,
   "id": "14843870-fd32-4413-a490-cca76ab5a944",
   "metadata": {},
   "outputs": [],
   "source": [
    "udf_f105w_file_path = \"hlsp_hudf12_hst_wfc3ir_udfmain_f105w_v1.0_drz.fits\"\n",
    "with fits.open(udf_f105w_file_path) as hdul:\n",
    "    data_udf = hdul[0].data\n"
   ]
  },
  {
   "cell_type": "markdown",
   "id": "eca437a9-eceb-4372-9017-9ca269bc2977",
   "metadata": {},
   "source": [
    "Display the image and save to PNG"
   ]
  },
  {
   "cell_type": "code",
   "execution_count": null,
   "id": "94dbf794-ff07-4de6-aa99-0de3ab3af05e",
   "metadata": {},
   "outputs": [],
   "source": [
    "m_udf, s_udf = np.mean(data_udf), np.std(data_udf)\n",
    "plt.imshow(data_udf, interpolation='nearest', cmap='gray', vmin=m_udf-s_udf, vmax=m_udf+s_udf, origin='lower')\n",
    "plt.colorbar()\n",
    "plt.savefig('udf_image.png') \n",
    "plt.show()"
   ]
  },
  {
   "cell_type": "markdown",
   "id": "aedcf2f8-da45-4bd4-9fb1-f2f3e82bac07",
   "metadata": {},
   "source": [
    "Measure spatially varying background on the UDF image"
   ]
  },
  {
   "cell_type": "code",
   "execution_count": null,
   "id": "9593a1e2-db13-4c65-92a3-2a19d3986860",
   "metadata": {},
   "outputs": [],
   "source": [
    "bkg_udf = sep.Background(data_udf)"
   ]
  },
  {
   "cell_type": "markdown",
   "id": "7e71ec32-5369-4c6d-855b-09556b21c371",
   "metadata": {},
   "source": [
    "Get \"global\" mean and noise of the image background"
   ]
  },
  {
   "cell_type": "code",
   "execution_count": null,
   "id": "c38e1d01-dd78-4ee7-bd5a-3863619e47a0",
   "metadata": {},
   "outputs": [],
   "source": [
    "print(\"Global background mean (UDF):\", bkg_udf.globalback)\n",
    "print(\"Global background noise (UDF):\", bkg_udf.globalrms)"
   ]
  },
  {
   "cell_type": "markdown",
   "id": "2ec60826-e903-4fa8-98f9-88c0fdfac26f",
   "metadata": {},
   "source": [
    "Evaluate background as 2-d array, same size as original UDF image and save as PNG"
   ]
  },
  {
   "cell_type": "code",
   "execution_count": null,
   "id": "9661f77a-76c9-4a9c-a3f4-908b529c5b6b",
   "metadata": {},
   "outputs": [],
   "source": [
    "bkg_image_udf = bkg_udf.back()\n",
    "plt.imshow(bkg_image_udf, interpolation='nearest', cmap='gray', origin='lower')\n",
    "plt.colorbar()\n",
    "plt.savefig('udf_background.png')  \n",
    "plt.show()"
   ]
  },
  {
   "cell_type": "markdown",
   "id": "c78a0fb9-59bd-4dea-b1c9-86a84b2beedf",
   "metadata": {},
   "source": [
    "Evaluate the background noise as 2-d array and save as PNG"
   ]
  },
  {
   "cell_type": "code",
   "execution_count": null,
   "id": "654392bf-d96c-4b6b-b462-47149872c724",
   "metadata": {},
   "outputs": [],
   "source": [
    "bkg_rms_udf = bkg_udf.rms()\n",
    "plt.imshow(bkg_rms_udf, interpolation='nearest', cmap='gray', origin='lower')\n",
    "plt.colorbar()\n",
    "plt.savefig('udf_background_noise.png')  \n",
    "plt.show()"
   ]
  },
  {
   "cell_type": "markdown",
   "id": "43c28218-98e8-44e5-b017-3e3497fe3817",
   "metadata": {},
   "source": [
    "Subtract the Background from the UDF data"
   ]
  },
  {
   "cell_type": "code",
   "execution_count": null,
   "id": "adaf21ad-269b-4dde-869b-efe2a81a044e",
   "metadata": {},
   "outputs": [],
   "source": [
    "data_sub_udf = data_udf - bkg_udf"
   ]
  },
  {
   "cell_type": "markdown",
   "id": "127cd6cf-9745-48e7-aa32-4cbceda5881d",
   "metadata": {},
   "source": [
    "Run object detection on the background-subtracted UDF data"
   ]
  },
  {
   "cell_type": "code",
   "execution_count": null,
   "id": "472a4097-ae24-4f8c-97ff-2cfe22f01690",
   "metadata": {},
   "outputs": [],
   "source": [
    "objects_udf = sep.extract(data_sub_udf, 1.5, err=bkg_udf.globalrms)\n",
    "print(\"Number of objects detected (UDF):\", len(objects_udf))"
   ]
  },
  {
   "cell_type": "markdown",
   "id": "7f7f01e7-29d9-49bd-a98d-be696880d5ed",
   "metadata": {},
   "source": [
    "Plot background-subtracted UDF image with ellipses around detected objects"
   ]
  },
  {
   "cell_type": "markdown",
   "id": "b2dc4e99-ef20-4dda-b6a3-65a17937da94",
   "metadata": {},
   "source": [
    "fig, ax = plt.subplots()\r\n",
    "m_udf, s_udf = np.mean(data_sub_udf), np.std(data_sub_udf)\r\n",
    "im_udf = ax.imshow(data_sub_udf, interpolation='nearest', cmap='gray', vmin=m_udf-s_udf, vmax=m_udf+s_udf, origin='lower')\r\n",
    "\r\n",
    "for i in range(len(objects_udf)):\r\n",
    "    e = Ellipse(xy=(objects_udf['x'][i], objects_udf['y'][i]),\r\n",
    "                width=6*objects_udf['a'][i],\r\n",
    "                height=6*objects_udf['b'][i],\r\n",
    "                angle=objects_udf['theta'][i] * 180. / np.pi)\r\n",
    "    e.set_facecolor('none')\r\n",
    "    e.set_edgecolor('red')\r\n",
    "    ax.add_artist(e)\r\n",
    "\r\n",
    "plt.savefig('udf_detected_obfigure as PNG\r\n",
    "plt.show()NG\r\n",
    "plt.show()"
   ]
  },
  {
   "cell_type": "markdown",
   "id": "9c77efc4-72f2-4dac-8113-bfc45d9f4442",
   "metadata": {},
   "source": [
    "Perform circular aperture photometry with a 3 pixel radius on the UDF data"
   ]
  },
  {
   "cell_type": "code",
   "execution_count": null,
   "id": "dd85ab44-f1eb-4fdb-88e8-9b91702bcb71",
   "metadata": {},
   "outputs": [],
   "source": [
    "flux_udf, fluxerr_udf, flag_udf = sep.sum_circle(data_sub_udf, objects_udf['x'], objects_udf['y'],\n",
    "                                                 3.0, err=bkg_udf.globalrms, gain=1.0)"
   ]
  },
  {
   "cell_type": "markdown",
   "id": "4b7b4e6d-682a-4f76-906b-2838c1ef6c9f",
   "metadata": {},
   "source": [
    "Display the first 10 objects' results"
   ]
  },
  {
   "cell_type": "code",
   "execution_count": null,
   "id": "6fe1491d-521f-4795-8c24-aef734e4ca6a",
   "metadata": {},
   "outputs": [],
   "source": [
    "for i in range(10):\n",
    "    print(f\"Object {i}: flux = {flux_udf[i]:.6f} +/- {fluxerr_udf[i]:.6f}\")\n"
   ]
  },
  {
   "cell_type": "markdown",
   "id": "f71c7578-de37-456f-9eec-2529f7f30dc0",
   "metadata": {},
   "source": [
    "Save the flux histogram as a figure"
   ]
  },
  {
   "cell_type": "code",
   "execution_count": null,
   "id": "5c31351d-bcd8-4fa4-a29a-dbdee40bc117",
   "metadata": {},
   "outputs": [],
   "source": [
    "plt.hist(flux_udf, bins=30, color='blue', alpha=0.7)\n",
    "plt.xlabel('Flux (UDF)')\n",
    "plt.ylabel('Frequency')\n",
    "plt.savefig('udf_flux_histogram.png')  # Save the figure as PNG\n",
    "plt.show()"
   ]
  },
  {
   "cell_type": "code",
   "execution_count": null,
   "id": "1019fabe-6a3e-435b-91c6-ea21ae2bab0f",
   "metadata": {},
   "outputs": [],
   "source": [
    "Calculate mean, median, and standard deviation of the flux distribution"
   ]
  },
  {
   "cell_type": "code",
   "execution_count": null,
   "id": "272cf693-22ba-4761-9843-5323b516168a",
   "metadata": {},
   "outputs": [],
   "source": [
    "mean_flux_udf = np.mean(flux_udf)\n",
    "median_flux_udf = np.median(flux_udf)\n",
    "std_dev_flux_udf = np.std(flux_udf)\n",
    "\n",
    "print(f\"Mean flux (UDF): {mean_flux_udf:.6f}\")\n",
    "print(f\"Median flux (UDF): {median_flux_udf:.6f}\")\n",
    "print(f\"Standard deviation of flux (UDF): {std_dev_flux_udf:.6f}\")"
   ]
  },
  {
   "cell_type": "code",
   "execution_count": null,
   "id": "fba63055-80c7-4f76-a827-ae07afc3f792",
   "metadata": {},
   "outputs": [],
   "source": [
    "Find the largest outlier in the distribution"
   ]
  },
  {
   "cell_type": "code",
   "execution_count": null,
   "id": "c2702512-c583-44c3-ab4e-a2bb7fa42f03",
   "metadata": {},
   "outputs": [],
   "source": [
    "largest_outlier_idx_udf = np.argmax(np.abs(flux_udf - mean_flux_udf))\n",
    "largest_outlier_flux_udf = flux_udf[largest_outlier_idx_udf]\n",
    "\n",
    "print(f\"Largest outlier in flux (UDF): {largest_outlier_flux_udf:.6f}\")"
   ]
  },
  {
   "cell_type": "markdown",
   "id": "c2e9eb14-f96b-4980-9cfe-ae6aaa4a7bcc",
   "metadata": {},
   "source": [
    "Save the RGB 3-color false image of UDF\n",
    "Download the f125w and f160w images of the HUDF and get their data\n",
    "Assume f125w_image.fits and f160w_image.fits as the filenames"
   ]
  },
  {
   "cell_type": "code",
   "execution_count": null,
   "id": "62ce7749-ced4-40fd-ac92-3400fe7ff7bf",
   "metadata": {},
   "outputs": [],
   "source": [
    "f105w_file_path = \"C:\\Users\\Sanket Dadhwal\\Downloads\\hlsp_hudf12_hst_wfc3ir_udfmain_f105w_v1.0_drz.fits\"\n",
    "f125w_file_path = \"C:\\Users\\Sanket Dadhwal\\Downloads\\hlsp_hudf12_hst_wfc3ir_udfmain_f125w_v1.0_drz (1).fits\"  \n",
    "f160w_file_path = \"C:\\Users\\Sanket Dadhwal\\Downloads\\hlsp_hudf12_hst_wfc3ir_udfmain_f160w_v1.0_drz.fits\"  \n",
    "\n",
    "with fits.open(f105w_file_path) as hdul_f105w:\n",
    "    data_f125w = hdul_f105w[0].data\n",
    "\n",
    "with fits.open(f125w_file_path) as hdul_f125w:\n",
    "    data_f125w = hdul_f125w[0].data\n",
    "\n",
    "with fits.open(f160w_file_path) as hdul_f160w:\n",
    "    data_f160w = hdul_f160w[0].data"
   ]
  },
  {
   "cell_type": "code",
   "execution_count": null,
   "id": "a5a91048-51a4-4523-b505-ace68e947cd0",
   "metadata": {},
   "outputs": [],
   "source": [
    "Normalize data"
   ]
  },
  {
   "cell_type": "code",
   "execution_count": null,
   "id": "a10df0bd-4754-425f-a21c-b4d105c57246",
   "metadata": {},
   "outputs": [],
   "source": [
    "data_f105w = data_f105w / np.max(data_f105w)\n",
    "data_f125w = data_f125w / np.max(data_f125w)\n",
    "data_f160w = data_f160w / np.max(data_f160w)"
   ]
  },
  {
   "cell_type": "markdown",
   "id": "9b52af0a-12d1-4e24-bae3-f5d0c1073959",
   "metadata": {},
   "source": [
    "Create the RGB image"
   ]
  },
  {
   "cell_type": "code",
   "execution_count": null,
   "id": "0f209b66-af3a-47b0-ac76-cf6998b49b35",
   "metadata": {},
   "outputs": [],
   "source": [
    "rgb_image = np.stack([data_f160w, data_f125w, data_f105w], axis=-1)"
   ]
  },
  {
   "cell_type": "code",
   "execution_count": null,
   "id": "1cdc2f7f-0963-4917-a493-f073f771181e",
   "metadata": {},
   "outputs": [],
   "source": [
    "Display the RGB image"
   ]
  },
  {
   "cell_type": "code",
   "execution_count": null,
   "id": "d695f971-db12-4d2c-88e9-5fcb80c02df1",
   "metadata": {},
   "outputs": [],
   "source": [
    "plt.imshow(rgb_image, origin='lower')\n",
    "plt.axis('off')\n",
    "plt.savefig('udf_rgb_image.png', bbox_inches='tight', pad_inches=0)  # Save as PNG\n",
    "plt.show()"
   ]
  }
 ],
 "metadata": {
  "kernelspec": {
   "display_name": "Python 3 (ipykernel)",
   "language": "python",
   "name": "python3"
  },
  "language_info": {
   "codemirror_mode": {
    "name": "ipython",
    "version": 3
   },
   "file_extension": ".py",
   "mimetype": "text/x-python",
   "name": "python",
   "nbconvert_exporter": "python",
   "pygments_lexer": "ipython3",
   "version": "3.11.5"
  }
 },
 "nbformat": 4,
 "nbformat_minor": 5
}
